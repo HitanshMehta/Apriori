{
  "nbformat": 4,
  "nbformat_minor": 0,
  "metadata": {
    "colab": {
      "provenance": []
    },
    "kernelspec": {
      "name": "python3",
      "display_name": "Python 3"
    },
    "language_info": {
      "name": "python"
    }
  },
  "cells": [
    {
      "cell_type": "code",
      "execution_count": 2,
      "metadata": {
        "id": "Pn0niZbMenRk",
        "colab": {
          "base_uri": "https://localhost:8080/"
        },
        "outputId": "a5a7741a-f414-4af7-ca9a-c23818d801c7"
      },
      "outputs": [
        {
          "output_type": "execute_result",
          "data": {
            "text/plain": [
              "[['M', 'O', 'N', 'K', 'E', 'Y'],\n",
              " ['D', 'O', 'N', 'K', 'E', 'Y'],\n",
              " ['M', 'A', 'K', 'E'],\n",
              " ['M', 'U', 'C', 'K', 'Y'],\n",
              " ['C', 'O', 'O', 'K', 'I', 'E']]"
            ]
          },
          "metadata": {},
          "execution_count": 2
        }
      ],
      "source": [
        "data = [\n",
        "    ['M', 'O', 'N', 'K', 'E', 'Y'],\n",
        "    ['D', 'O', 'N', 'K', 'E', 'Y'],\n",
        "    ['M', 'A', 'K', 'E'],\n",
        "    ['M', 'U', 'C', 'K', 'Y'],\n",
        "    ['C', 'O', 'O', 'K', 'I', 'E']\n",
        "]\n",
        "data"
      ]
    },
    {
      "cell_type": "code",
      "source": [
        "C1 = {}\n",
        "for s in data:\n",
        "  for c in s:\n",
        "    if c in C1:\n",
        "      C1[c] += 1\n",
        "    else :\n",
        "      C1[c] = 1"
      ],
      "metadata": {
        "id": "PTvlnoubfF1f"
      },
      "execution_count": 3,
      "outputs": []
    },
    {
      "cell_type": "code",
      "source": [
        "C1"
      ],
      "metadata": {
        "colab": {
          "base_uri": "https://localhost:8080/"
        },
        "id": "_JcHNrulfGe9",
        "outputId": "13595c18-8a9b-4f60-93e6-ba28a420bed0"
      },
      "execution_count": 4,
      "outputs": [
        {
          "output_type": "execute_result",
          "data": {
            "text/plain": [
              "{'M': 3,\n",
              " 'O': 4,\n",
              " 'N': 2,\n",
              " 'K': 5,\n",
              " 'E': 4,\n",
              " 'Y': 3,\n",
              " 'D': 1,\n",
              " 'A': 1,\n",
              " 'U': 1,\n",
              " 'C': 2,\n",
              " 'I': 1}"
            ]
          },
          "metadata": {},
          "execution_count": 4
        }
      ]
    },
    {
      "cell_type": "code",
      "source": [
        "min_support = int(0.6*len(data))\n",
        "min_support"
      ],
      "metadata": {
        "id": "3r38KAUlgjoL",
        "colab": {
          "base_uri": "https://localhost:8080/"
        },
        "outputId": "3311e7b6-6719-4e5c-8e70-282232bd8063"
      },
      "execution_count": 5,
      "outputs": [
        {
          "output_type": "execute_result",
          "data": {
            "text/plain": [
              "3"
            ]
          },
          "metadata": {},
          "execution_count": 5
        }
      ]
    },
    {
      "cell_type": "code",
      "source": [
        "L1 = {}\n",
        "for x in C1.keys():\n",
        "  if C1[x] >= min_support:\n",
        "    L1[x] = C1[x]"
      ],
      "metadata": {
        "id": "4izI09JVfzK5"
      },
      "execution_count": 6,
      "outputs": []
    },
    {
      "cell_type": "code",
      "source": [
        "L1"
      ],
      "metadata": {
        "colab": {
          "base_uri": "https://localhost:8080/"
        },
        "id": "5kb7avmjgttP",
        "outputId": "e541ef20-3d88-4e48-97e9-a598a53733cd"
      },
      "execution_count": 7,
      "outputs": [
        {
          "output_type": "execute_result",
          "data": {
            "text/plain": [
              "{'M': 3, 'O': 4, 'K': 5, 'E': 4, 'Y': 3}"
            ]
          },
          "metadata": {},
          "execution_count": 7
        }
      ]
    },
    {
      "cell_type": "code",
      "source": [
        "L1_list = list(L1)"
      ],
      "metadata": {
        "id": "enmcTZ4Ogun1"
      },
      "execution_count": 8,
      "outputs": []
    },
    {
      "cell_type": "code",
      "source": [
        "L1_list"
      ],
      "metadata": {
        "colab": {
          "base_uri": "https://localhost:8080/"
        },
        "id": "peT99OZtgzt9",
        "outputId": "9e7600f9-26c1-46ab-c130-06163bbe71dc"
      },
      "execution_count": 9,
      "outputs": [
        {
          "output_type": "execute_result",
          "data": {
            "text/plain": [
              "['M', 'O', 'K', 'E', 'Y']"
            ]
          },
          "metadata": {},
          "execution_count": 9
        }
      ]
    },
    {
      "cell_type": "code",
      "source": [
        "C2 = {}\n",
        "for i in range(len(L1_list)):\n",
        "  for j in range(i+1, len(L1_list)):\n",
        "    curr = L1_list[i] + L1_list[j]\n",
        "    for x in data:\n",
        "      if( (L1_list[i] in x) and (L1_list[j] in x)):\n",
        "        if(curr in C2):\n",
        "          C2[curr] += 1\n",
        "        else :\n",
        "          C2[curr] = 1"
      ],
      "metadata": {
        "id": "SSRbAlGGg0y4"
      },
      "execution_count": 10,
      "outputs": []
    },
    {
      "cell_type": "code",
      "source": [
        "C2"
      ],
      "metadata": {
        "colab": {
          "base_uri": "https://localhost:8080/"
        },
        "id": "IJVtlvYjhxSM",
        "outputId": "c41ec070-d3e7-4208-a96a-4d3674ed62b4"
      },
      "execution_count": 11,
      "outputs": [
        {
          "output_type": "execute_result",
          "data": {
            "text/plain": [
              "{'MO': 1,\n",
              " 'MK': 3,\n",
              " 'ME': 2,\n",
              " 'MY': 2,\n",
              " 'OK': 3,\n",
              " 'OE': 3,\n",
              " 'OY': 2,\n",
              " 'KE': 4,\n",
              " 'KY': 3,\n",
              " 'EY': 2}"
            ]
          },
          "metadata": {},
          "execution_count": 11
        }
      ]
    },
    {
      "cell_type": "code",
      "source": [
        "L2 = {}\n",
        "for x in C2.keys():\n",
        "  if C2[x] >= min_support:\n",
        "    L2[x] = C2[x]"
      ],
      "metadata": {
        "id": "BbhTPusjiKrY"
      },
      "execution_count": 12,
      "outputs": []
    },
    {
      "cell_type": "code",
      "source": [
        "L2"
      ],
      "metadata": {
        "colab": {
          "base_uri": "https://localhost:8080/"
        },
        "id": "w-1Y8eWkiW39",
        "outputId": "f85b924c-1b4a-4083-e27e-83d0adc05d36"
      },
      "execution_count": 13,
      "outputs": [
        {
          "output_type": "execute_result",
          "data": {
            "text/plain": [
              "{'MK': 3, 'OK': 3, 'OE': 3, 'KE': 4, 'KY': 3}"
            ]
          },
          "metadata": {},
          "execution_count": 13
        }
      ]
    },
    {
      "cell_type": "code",
      "source": [
        "L2_list = list(L2)"
      ],
      "metadata": {
        "id": "DnrX-rKJiXyq"
      },
      "execution_count": 14,
      "outputs": []
    },
    {
      "cell_type": "code",
      "source": [
        "L2_list"
      ],
      "metadata": {
        "colab": {
          "base_uri": "https://localhost:8080/"
        },
        "id": "RxerM3mNjE7b",
        "outputId": "720d9cc8-4f1a-455f-ebbc-70d7024624fc"
      },
      "execution_count": 15,
      "outputs": [
        {
          "output_type": "execute_result",
          "data": {
            "text/plain": [
              "['MK', 'OK', 'OE', 'KE', 'KY']"
            ]
          },
          "metadata": {},
          "execution_count": 15
        }
      ]
    },
    {
      "cell_type": "code",
      "source": [
        "C3 = {}\n",
        "for i in range(len(L2_list)):\n",
        "  for j in range(i+1, len(L2_list)):\n",
        "    st = set()\n",
        "    for c in L2_list[i]:\n",
        "      st.add(c)\n",
        "    for c in L2_list[j]:\n",
        "      st.add(c)\n",
        "    curr = \"\"\n",
        "    for x in st:\n",
        "      curr += x\n",
        "    if(len(st) == 3):\n",
        "      for x in st:\n",
        "        ok = True\n",
        "        for d in data:\n",
        "          if(not (x in d)):\n",
        "            ok = False\n",
        "        if(ok):\n",
        "          if(curr in C3):\n",
        "            C3[curr] += 1\n",
        "          else :\n",
        "            C3[curr] = 1"
      ],
      "metadata": {
        "id": "98oXbbgOjGoS"
      },
      "execution_count": 16,
      "outputs": []
    },
    {
      "cell_type": "code",
      "source": [
        "C3"
      ],
      "metadata": {
        "colab": {
          "base_uri": "https://localhost:8080/"
        },
        "id": "x4JDcK8cknfs",
        "outputId": "aecb8c22-4323-4bc4-a2a3-d05ea084dfd0"
      },
      "execution_count": 17,
      "outputs": [
        {
          "output_type": "execute_result",
          "data": {
            "text/plain": [
              "{'MKO': 1, 'MKE': 1, 'MKY': 1, 'KOE': 3, 'KOY': 1, 'KEY': 1}"
            ]
          },
          "metadata": {},
          "execution_count": 17
        }
      ]
    },
    {
      "cell_type": "code",
      "source": [
        "L3 = {}\n",
        "for x in C3.keys():\n",
        "  if C3[x] >= min_support:\n",
        "    L3[x] = C3[x]"
      ],
      "metadata": {
        "id": "8ZRFvNgxko6R"
      },
      "execution_count": 22,
      "outputs": []
    },
    {
      "cell_type": "code",
      "source": [
        "L3"
      ],
      "metadata": {
        "colab": {
          "base_uri": "https://localhost:8080/"
        },
        "id": "TG1CGGE6k98X",
        "outputId": "30111d35-73f1-4100-da25-c9b299b2100f"
      },
      "execution_count": 26,
      "outputs": [
        {
          "output_type": "execute_result",
          "data": {
            "text/plain": [
              "{'KOE': 3}"
            ]
          },
          "metadata": {},
          "execution_count": 26
        }
      ]
    },
    {
      "cell_type": "code",
      "source": [
        "P = list(L3.keys())[0]"
      ],
      "metadata": {
        "id": "6Bw043oGk-tp"
      },
      "execution_count": 27,
      "outputs": []
    },
    {
      "cell_type": "code",
      "source": [
        "#try LHS of size 2\n",
        "for i in range(3):\n",
        "  for j in range(i+1, 3):\n",
        "    k = 0\n",
        "    if(i==0 and j==1):\n",
        "      k = 2\n",
        "    elif(i==0 and j==2):\n",
        "      k = 1\n",
        "    else:\n",
        "      k = 0\n",
        "    LHS = P[i]+P[j]\n",
        "    RHS = P[k]\n",
        "    confidence = 0\n",
        "    if(LHS in L2):\n",
        "      confidence = (L3['KOE'] / L2[LHS])\n",
        "    else :\n",
        "      confidence = (L3['KOE'] / L2[P[j] + P[i]])\n",
        "    print(LHS, \" => \", RHS, \" : \", confidence)\n",
        "\n",
        "#try LHS of size 1\n",
        "for i in range(3):\n",
        "  RHS = \"\"\n",
        "  if(i==0):\n",
        "    RHS += P[1]\n",
        "    RHS += P[2]\n",
        "  elif(i==1):\n",
        "    RHS += P[0]\n",
        "    RHS += P[2]\n",
        "  else :\n",
        "    RHS += P[0]\n",
        "    RHS += P[1]\n",
        "  LHS = P[i]\n",
        "  confidence = (L3['KOE'] / L1[LHS])\n",
        "  print(LHS, \" => \", RHS, \" : \", confidence)"
      ],
      "metadata": {
        "colab": {
          "base_uri": "https://localhost:8080/"
        },
        "id": "dnwPJGq4mpZW",
        "outputId": "17219243-0fc3-4b4d-8ea1-8eec39cf8858"
      },
      "execution_count": 34,
      "outputs": [
        {
          "output_type": "stream",
          "name": "stdout",
          "text": [
            "KO  =>  E  :  1.0\n",
            "KE  =>  O  :  0.75\n",
            "OE  =>  K  :  1.0\n",
            "K  =>  OE  :  0.6\n",
            "O  =>  KE  :  0.75\n",
            "E  =>  KO  :  0.75\n"
          ]
        }
      ]
    },
    {
      "cell_type": "code",
      "source": [],
      "metadata": {
        "id": "Um3yFEl_ndR9"
      },
      "execution_count": null,
      "outputs": []
    }
  ]
}