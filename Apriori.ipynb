{
  "nbformat": 4,
  "nbformat_minor": 0,
  "metadata": {
    "colab": {
      "provenance": []
    },
    "kernelspec": {
      "name": "python3",
      "display_name": "Python 3"
    },
    "language_info": {
      "name": "python"
    }
  },
  "cells": [
    {
      "cell_type": "code",
      "execution_count": null,
      "metadata": {
        "id": "Pn0niZbMenRk",
        "colab": {
          "base_uri": "https://localhost:8080/"
        },
        "outputId": "2135411f-d95b-4852-8539-829c89892f5a"
      },
      "outputs": [
        {
          "output_type": "execute_result",
          "data": {
            "text/plain": [
              "[['M', 'O', 'N', 'K', 'E', 'Y'],\n",
              " ['D', 'O', 'N', 'K', 'E', 'Y'],\n",
              " ['M', 'A', 'K', 'E'],\n",
              " ['M', 'U', 'C', 'K', 'Y'],\n",
              " ['C', 'O', 'O', 'K', 'I', 'E']]"
            ]
          },
          "metadata": {},
          "execution_count": 2
        }
      ],
      "source": [
        "data = [\n",
        "    ['M', 'O', 'N', 'K', 'E', 'Y'],\n",
        "    ['D', 'O', 'N', 'K', 'E', 'Y'],\n",
        "    ['M', 'A', 'K', 'E'],\n",
        "    ['M', 'U', 'C', 'K', 'Y'],\n",
        "    ['C', 'O', 'O', 'K', 'I', 'E']\n",
        "]\n",
        "data"
      ]
    },
    {
      "cell_type": "code",
      "source": [
        "C1 = {}\n",
        "for s in data:\n",
        "  for c in s:\n",
        "    if c in C1:\n",
        "      C1[c] += 1\n",
        "    else :\n",
        "      C1[c] = 1"
      ],
      "metadata": {
        "id": "PTvlnoubfF1f"
      },
      "execution_count": null,
      "outputs": []
    },
    {
      "cell_type": "code",
      "source": [
        "C1"
      ],
      "metadata": {
        "colab": {
          "base_uri": "https://localhost:8080/"
        },
        "id": "_JcHNrulfGe9",
        "outputId": "87f337b1-f709-4c6e-c804-1fcfb269b850"
      },
      "execution_count": null,
      "outputs": [
        {
          "output_type": "execute_result",
          "data": {
            "text/plain": [
              "{'M': 3,\n",
              " 'O': 4,\n",
              " 'N': 2,\n",
              " 'K': 5,\n",
              " 'E': 4,\n",
              " 'Y': 3,\n",
              " 'D': 1,\n",
              " 'A': 1,\n",
              " 'U': 1,\n",
              " 'C': 2,\n",
              " 'I': 1}"
            ]
          },
          "metadata": {},
          "execution_count": 11
        }
      ]
    },
    {
      "cell_type": "code",
      "source": [
        "min_support = int(0.6*len(data))\n",
        "min_support"
      ],
      "metadata": {
        "id": "3r38KAUlgjoL",
        "colab": {
          "base_uri": "https://localhost:8080/"
        },
        "outputId": "23306691-5b8f-4b76-f8cc-51cec59f0557"
      },
      "execution_count": null,
      "outputs": [
        {
          "output_type": "execute_result",
          "data": {
            "text/plain": [
              "3"
            ]
          },
          "metadata": {},
          "execution_count": 12
        }
      ]
    },
    {
      "cell_type": "code",
      "source": [
        "L1 = {}\n",
        "for x in C1.keys():\n",
        "  if C1[x] >= min_support:\n",
        "    L1[x] = C1[x]"
      ],
      "metadata": {
        "id": "4izI09JVfzK5"
      },
      "execution_count": null,
      "outputs": []
    },
    {
      "cell_type": "code",
      "source": [
        "L1"
      ],
      "metadata": {
        "colab": {
          "base_uri": "https://localhost:8080/"
        },
        "id": "5kb7avmjgttP",
        "outputId": "eadf9aad-ed78-49cf-ecb0-9510340c6808"
      },
      "execution_count": null,
      "outputs": [
        {
          "output_type": "execute_result",
          "data": {
            "text/plain": [
              "{'M': 3, 'O': 4, 'K': 5, 'E': 4, 'Y': 3}"
            ]
          },
          "metadata": {},
          "execution_count": 14
        }
      ]
    },
    {
      "cell_type": "code",
      "source": [
        "L1_list = list(L1)"
      ],
      "metadata": {
        "id": "enmcTZ4Ogun1"
      },
      "execution_count": null,
      "outputs": []
    },
    {
      "cell_type": "code",
      "source": [
        "L1_list"
      ],
      "metadata": {
        "colab": {
          "base_uri": "https://localhost:8080/"
        },
        "id": "peT99OZtgzt9",
        "outputId": "831ba9dd-8afe-44a5-cc00-e89803988607"
      },
      "execution_count": null,
      "outputs": [
        {
          "output_type": "execute_result",
          "data": {
            "text/plain": [
              "['M', 'O', 'K', 'E', 'Y']"
            ]
          },
          "metadata": {},
          "execution_count": 9
        }
      ]
    },
    {
      "cell_type": "code",
      "source": [
        "C2 = {}\n",
        "for i in range(len(L1_list)):\n",
        "  for j in range(i+1, len(L1_list)):\n",
        "    curr = L1_list[i] + L1_list[j]\n",
        "    for x in data:\n",
        "      if( (L1_list[i] in x) and (L1_list[j] in x)):\n",
        "        if(curr in C2):\n",
        "          C2[curr] += 1\n",
        "        else :\n",
        "          C2[curr] = 1"
      ],
      "metadata": {
        "id": "SSRbAlGGg0y4"
      },
      "execution_count": null,
      "outputs": []
    },
    {
      "cell_type": "code",
      "source": [
        "C2"
      ],
      "metadata": {
        "colab": {
          "base_uri": "https://localhost:8080/"
        },
        "id": "IJVtlvYjhxSM",
        "outputId": "f4cd145d-05f5-4692-f0b3-3214d92c4be5"
      },
      "execution_count": null,
      "outputs": [
        {
          "output_type": "execute_result",
          "data": {
            "text/plain": [
              "{'MO': 1,\n",
              " 'MK': 3,\n",
              " 'ME': 2,\n",
              " 'MY': 2,\n",
              " 'OK': 3,\n",
              " 'OE': 3,\n",
              " 'OY': 2,\n",
              " 'KE': 4,\n",
              " 'KY': 3,\n",
              " 'EY': 2}"
            ]
          },
          "metadata": {},
          "execution_count": 13
        }
      ]
    },
    {
      "cell_type": "code",
      "source": [
        "L2 = {}\n",
        "for x in C2.keys():\n",
        "  if C2[x] >= min_support:\n",
        "    L2[x] = C2[x]"
      ],
      "metadata": {
        "id": "BbhTPusjiKrY"
      },
      "execution_count": null,
      "outputs": []
    },
    {
      "cell_type": "code",
      "source": [
        "L2"
      ],
      "metadata": {
        "colab": {
          "base_uri": "https://localhost:8080/"
        },
        "id": "w-1Y8eWkiW39",
        "outputId": "466adea5-da97-4732-d6ba-45f148479990"
      },
      "execution_count": null,
      "outputs": [
        {
          "output_type": "execute_result",
          "data": {
            "text/plain": [
              "{'MK': 3, 'OK': 3, 'OE': 3, 'KE': 4, 'KY': 3}"
            ]
          },
          "metadata": {},
          "execution_count": 15
        }
      ]
    },
    {
      "cell_type": "code",
      "source": [
        "L2_list = list(L2)"
      ],
      "metadata": {
        "id": "DnrX-rKJiXyq"
      },
      "execution_count": null,
      "outputs": []
    },
    {
      "cell_type": "code",
      "source": [
        "L2_list"
      ],
      "metadata": {
        "colab": {
          "base_uri": "https://localhost:8080/"
        },
        "id": "RxerM3mNjE7b",
        "outputId": "f45dc55b-5e0b-4067-c4bc-f02f84a303e2"
      },
      "execution_count": null,
      "outputs": [
        {
          "output_type": "execute_result",
          "data": {
            "text/plain": [
              "['MK', 'OK', 'OE', 'KE', 'KY']"
            ]
          },
          "metadata": {},
          "execution_count": 17
        }
      ]
    },
    {
      "cell_type": "code",
      "source": [
        "C3 = {}\n",
        "for i in range(len(L2_list)):\n",
        "  for j in range(i+1, len(L2_list)):\n",
        "    st = set()\n",
        "    for c in L2_list[i]:\n",
        "      st.add(c)\n",
        "    for c in L2_list[j]:\n",
        "      st.add(c)\n",
        "    curr = \"\"\n",
        "    for x in st:\n",
        "      curr += x\n",
        "    if(len(st) == 3):\n",
        "      for x in st:\n",
        "        ok = True\n",
        "        for d in data:\n",
        "          if(not (x in d)):\n",
        "            ok = False\n",
        "        if(ok):\n",
        "          if(curr in C3):\n",
        "            C3[curr] += 1\n",
        "          else :\n",
        "            C3[curr] = 1"
      ],
      "metadata": {
        "id": "98oXbbgOjGoS"
      },
      "execution_count": null,
      "outputs": []
    },
    {
      "cell_type": "code",
      "source": [
        "C3"
      ],
      "metadata": {
        "colab": {
          "base_uri": "https://localhost:8080/"
        },
        "id": "x4JDcK8cknfs",
        "outputId": "117fdc02-14ab-47d6-fd36-135fc2084cc9"
      },
      "execution_count": null,
      "outputs": [
        {
          "output_type": "execute_result",
          "data": {
            "text/plain": [
              "{'OMK': 1, 'MEK': 1, 'YMK': 1, 'OEK': 3, 'OYK': 1, 'YEK': 1}"
            ]
          },
          "metadata": {},
          "execution_count": 23
        }
      ]
    },
    {
      "cell_type": "code",
      "source": [
        "L3 = {}\n",
        "for x in C3.keys():\n",
        "  if C3[x] >= min_support:\n",
        "    L3[x] = C3[x]"
      ],
      "metadata": {
        "id": "8ZRFvNgxko6R"
      },
      "execution_count": null,
      "outputs": []
    },
    {
      "cell_type": "code",
      "source": [
        "L3"
      ],
      "metadata": {
        "colab": {
          "base_uri": "https://localhost:8080/"
        },
        "id": "TG1CGGE6k98X",
        "outputId": "c8c97e11-fe96-4046-a9fe-4396e04c7256"
      },
      "execution_count": null,
      "outputs": [
        {
          "output_type": "execute_result",
          "data": {
            "text/plain": [
              "{'OEK': 3}"
            ]
          },
          "metadata": {},
          "execution_count": 25
        }
      ]
    },
    {
      "cell_type": "code",
      "source": [
        "P = list(L3.keys())[0]"
      ],
      "metadata": {
        "id": "6Bw043oGk-tp",
        "outputId": "0f8d9499-2c2b-487f-ee1d-c6f0a708bb1b",
        "colab": {
          "base_uri": "https://localhost:8080/"
        }
      },
      "execution_count": null,
      "outputs": [
        {
          "output_type": "error",
          "ename": "NameError",
          "evalue": "name 'L3' is not defined",
          "traceback": [
            "\u001b[0;31m---------------------------------------------------------------------------\u001b[0m",
            "\u001b[0;31mNameError\u001b[0m                                 Traceback (most recent call last)",
            "\u001b[0;32m<ipython-input-1-c455087c390d>\u001b[0m in \u001b[0;36m<cell line: 1>\u001b[0;34m()\u001b[0m\n\u001b[0;32m----> 1\u001b[0;31m \u001b[0mP\u001b[0m \u001b[0;34m=\u001b[0m \u001b[0mlist\u001b[0m\u001b[0;34m(\u001b[0m\u001b[0mL3\u001b[0m\u001b[0;34m.\u001b[0m\u001b[0mkeys\u001b[0m\u001b[0;34m(\u001b[0m\u001b[0;34m)\u001b[0m\u001b[0;34m)\u001b[0m\u001b[0;34m[\u001b[0m\u001b[0;36m0\u001b[0m\u001b[0;34m]\u001b[0m\u001b[0;34m\u001b[0m\u001b[0;34m\u001b[0m\u001b[0m\n\u001b[0m",
            "\u001b[0;31mNameError\u001b[0m: name 'L3' is not defined"
          ]
        }
      ]
    },
    {
      "cell_type": "code",
      "source": [
        "#try LHS of size 2\n",
        "for i in range(3):\n",
        "  for j in range(i+1, 3):\n",
        "    k = 0\n",
        "    if(i==0 and j==1):\n",
        "      k = 2\n",
        "    elif(i==0 and j==2):\n",
        "      k = 1\n",
        "    else:\n",
        "      k = 0\n",
        "    LHS = P[i]+P[j]\n",
        "    RHS = P[k]\n",
        "    confidence = 0\n",
        "    if(LHS in L2):\n",
        "      confidence = (L3['OEK'] / L2[LHS])\n",
        "    else :\n",
        "      confidence = (L3['OEK'] / L2[P[j] + P[i]])\n",
        "    print(LHS, \" => \", RHS, \" : \", confidence)\n",
        "\n",
        "#try LHS of size 1\n",
        "for i in range(3):\n",
        "  RHS = \"\"\n",
        "  if(i==0):\n",
        "    RHS += P[1]\n",
        "    RHS += P[2]\n",
        "  elif(i==1):\n",
        "    RHS += P[0]\n",
        "    RHS += P[2]\n",
        "  else :\n",
        "    RHS += P[0]\n",
        "    RHS += P[1]\n",
        "  LHS = P[i]\n",
        "  confidence = (L3['OEK'] / L1[LHS])\n",
        "  print(LHS, \" => \", RHS, \" : \", confidence)"
      ],
      "metadata": {
        "colab": {
          "base_uri": "https://localhost:8080/"
        },
        "id": "dnwPJGq4mpZW",
        "outputId": "e1e52098-ba2a-4a63-b6fa-98feaa8f5d16"
      },
      "execution_count": null,
      "outputs": [
        {
          "output_type": "stream",
          "name": "stdout",
          "text": [
            "OE  =>  K  :  1.0\n",
            "OK  =>  E  :  1.0\n",
            "EK  =>  O  :  0.75\n",
            "O  =>  EK  :  0.75\n",
            "E  =>  OK  :  0.75\n",
            "K  =>  OE  :  0.6\n"
          ]
        }
      ]
    },
    {
      "cell_type": "code",
      "source": [],
      "metadata": {
        "id": "Um3yFEl_ndR9"
      },
      "execution_count": null,
      "outputs": []
    }
  ]
}